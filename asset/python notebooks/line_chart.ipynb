{
 "cells": [
  {
   "cell_type": "code",
   "execution_count": 2,
   "id": "c5afc559",
   "metadata": {},
   "outputs": [],
   "source": [
    "import pandas as pd\n",
    "\n",
    "data = pd.read_csv('Life Expectancy Data.csv')\n",
    "data = data[(data['Year'] >= 2000) & (data['Year'] <= 2015)]\n",
    "data = data[['Country', 'Year', 'Life expectancy ']]\n",
    "data = data.dropna()\n",
    "\n",
    "# Calculate the average life expectancy for each country and year\n",
    "avg_life_expectancy = data.groupby(['Country', 'Year'])['Life expectancy '].mean().reset_index()\n",
    "avg_life_expectancy.columns = ['Country', 'Year', 'Average Life Expectancy']\n",
    "\n",
    "avg_life_expectancy.to_csv('avg_life_expectancy_2000_2015.csv', index=False)\n"
   ]
  },
  {
   "cell_type": "code",
   "execution_count": null,
   "id": "5fcceff5",
   "metadata": {},
   "outputs": [],
   "source": []
  }
 ],
 "metadata": {
  "kernelspec": {
   "display_name": "Python 3 (ipykernel)",
   "language": "python",
   "name": "python3"
  },
  "language_info": {
   "codemirror_mode": {
    "name": "ipython",
    "version": 3
   },
   "file_extension": ".py",
   "mimetype": "text/x-python",
   "name": "python",
   "nbconvert_exporter": "python",
   "pygments_lexer": "ipython3",
   "version": "3.10.11"
  }
 },
 "nbformat": 4,
 "nbformat_minor": 5
}
