{
 "cells": [
  {
   "cell_type": "code",
   "execution_count": 1,
   "id": "ca42bac5",
   "metadata": {},
   "outputs": [],
   "source": [
    "import pandas as pd\n",
    "\n",
    "data = pd.read_csv('Life Expectancy Data.csv')\n",
    "data = data[(data['Year'] >= 2000) & (data['Year'] <= 2015)]\n",
    "\n",
    "#prepare the data\n",
    "data = data[['Country', 'Year', 'Status', 'infant deaths']]\n",
    "data = data.dropna()\n",
    "\n",
    "# Calculate the average infant deaths for each category (Developed and Developing) for each year\n",
    "avg_infant_deaths = data.groupby(['Status', 'Year'])['infant deaths'].mean().reset_index()\n",
    "avg_infant_deaths.columns = ['Status', 'Year', 'Average Infant Deaths']\n",
    "\n",
    "\n",
    "avg_infant_deaths.to_csv('avg_infant_deaths_2000_2015.csv', index=False)\n"
   ]
  }
 ],
 "metadata": {
  "kernelspec": {
   "display_name": "Python 3 (ipykernel)",
   "language": "python",
   "name": "python3"
  },
  "language_info": {
   "codemirror_mode": {
    "name": "ipython",
    "version": 3
   },
   "file_extension": ".py",
   "mimetype": "text/x-python",
   "name": "python",
   "nbconvert_exporter": "python",
   "pygments_lexer": "ipython3",
   "version": "3.10.11"
  }
 },
 "nbformat": 4,
 "nbformat_minor": 5
}
