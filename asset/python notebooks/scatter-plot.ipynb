{
 "cells": [
  {
   "cell_type": "code",
   "execution_count": 1,
   "id": "4308202c",
   "metadata": {},
   "outputs": [],
   "source": [
    "import pandas as pd\n",
    "\n",
    "data = pd.read_csv('Life Expectancy Data.csv')\n",
    "data = data[(data['Year'] >= 2000) & (data['Year'] <= 2015)]\n",
    "data = data[['Country', 'Year', 'Status', 'Life expectancy ', 'Hepatitis B', 'Measles ', 'Polio', 'Diphtheria ']]\n",
    "data = data.dropna()\n",
    "\n",
    "# Rename columns for convenience\n",
    "data.columns = ['Country', 'Year', 'Status', 'Life Expectancy', 'Hepatitis B', 'Measles', 'Polio', 'Diphtheria']\n",
    "\n",
    "data.to_csv('diseases_life_expectancy.csv', index=False)\n"
   ]
  }
 ],
 "metadata": {
  "kernelspec": {
   "display_name": "Python 3 (ipykernel)",
   "language": "python",
   "name": "python3"
  },
  "language_info": {
   "codemirror_mode": {
    "name": "ipython",
    "version": 3
   },
   "file_extension": ".py",
   "mimetype": "text/x-python",
   "name": "python",
   "nbconvert_exporter": "python",
   "pygments_lexer": "ipython3",
   "version": "3.10.11"
  }
 },
 "nbformat": 4,
 "nbformat_minor": 5
}
