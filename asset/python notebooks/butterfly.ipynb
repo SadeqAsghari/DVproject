{
 "cells": [
  {
   "cell_type": "code",
   "execution_count": 1,
   "id": "199334fa",
   "metadata": {},
   "outputs": [],
   "source": [
    "import pandas as pd\n",
    "\n",
    "data = pd.read_csv('Life Expectancy Data.csv')\n",
    "\n",
    "# prepare the data\n",
    "data = data[(data['Year'] >= 2000) & (data['Year'] <= 2015)]\n",
    "data = data[['Country', 'Year', 'Status', 'GDP']]\n",
    "data = data.dropna()\n",
    "\n",
    "# Calculate the average GDP for each category (Developed and Developing) for each year\n",
    "avg_gdp = data.groupby(['Status', 'Year'])['GDP'].mean().reset_index()\n",
    "avg_gdp.columns = ['Status', 'Year', 'Average GDP']\n",
    "\n",
    "avg_gdp.to_csv('avg_gdp_2000_2015.csv', index=False)\n"
   ]
  }
 ],
 "metadata": {
  "kernelspec": {
   "display_name": "Python 3 (ipykernel)",
   "language": "python",
   "name": "python3"
  },
  "language_info": {
   "codemirror_mode": {
    "name": "ipython",
    "version": 3
   },
   "file_extension": ".py",
   "mimetype": "text/x-python",
   "name": "python",
   "nbconvert_exporter": "python",
   "pygments_lexer": "ipython3",
   "version": "3.10.11"
  }
 },
 "nbformat": 4,
 "nbformat_minor": 5
}
