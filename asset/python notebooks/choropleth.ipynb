{
 "cells": [
  {
   "cell_type": "code",
   "execution_count": 2,
   "id": "b2c49f01",
   "metadata": {},
   "outputs": [],
   "source": [
    "import pandas as pd\n",
    "\n",
    "data = pd.read_csv('Life Expectancy Data.csv')\n",
    "\n",
    "# prepare the data\n",
    "data = data[['Country', 'Year', 'Life expectancy ']]\n",
    "data = data.dropna()\n",
    "\n",
    "# Map dataset country names to GeoJSON country names\n",
    "country_name_map = {\n",
    "    \"United States of America\": \"USA\",\n",
    "    \"Iran (Islamic Republic of)\": \"Iran\",\n",
    "    \"Russian Federation\": \"Russia\",\n",
    "    \"Viet Nam\": \"Vietnam\",\n",
    "    \"Republic of Korea\": \"South Korea\",\n",
    "    \"Democratic People's Republic of Korea\": \"North Korea\",\n",
    "    \"Syrian Arab Republic\": \"Syria\",\n",
    "    \"United Kingdom of Great Britain and Northern Ireland\": \"United Kingdom\",\n",
    "   }\n",
    "\n",
    "data['Country'] = data['Country'].replace(country_name_map)\n",
    "\n",
    "# Calculate the average life expectancy for each country and year\n",
    "avg_life_expectancy = data.groupby(['Country', 'Year'])['Life expectancy '].mean().reset_index()\n",
    "avg_life_expectancy.columns = ['Country', 'Year', 'Average Life Expectancy']\n",
    "\n",
    "avg_life_expectancy.to_csv('avg_life_expectancy_by_year.csv', index=False)\n"
   ]
  },
  {
   "cell_type": "code",
   "execution_count": null,
   "id": "aee66c78",
   "metadata": {},
   "outputs": [],
   "source": []
  },
  {
   "cell_type": "code",
   "execution_count": null,
   "id": "f10b7694",
   "metadata": {},
   "outputs": [],
   "source": []
  }
 ],
 "metadata": {
  "kernelspec": {
   "display_name": "Python 3 (ipykernel)",
   "language": "python",
   "name": "python3"
  },
  "language_info": {
   "codemirror_mode": {
    "name": "ipython",
    "version": 3
   },
   "file_extension": ".py",
   "mimetype": "text/x-python",
   "name": "python",
   "nbconvert_exporter": "python",
   "pygments_lexer": "ipython3",
   "version": "3.10.11"
  }
 },
 "nbformat": 4,
 "nbformat_minor": 5
}
